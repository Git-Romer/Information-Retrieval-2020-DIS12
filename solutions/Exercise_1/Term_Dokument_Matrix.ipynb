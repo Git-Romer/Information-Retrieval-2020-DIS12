{
 "metadata": {
  "language_info": {
   "codemirror_mode": {
    "name": "ipython",
    "version": 3
   },
   "file_extension": ".py",
   "mimetype": "text/x-python",
   "name": "python",
   "nbconvert_exporter": "python",
   "pygments_lexer": "ipython3",
   "version": "3.8.0-final"
  },
  "orig_nbformat": 2,
  "kernelspec": {
   "name": "python38064bit604ea35cef5f47b299242b69d90df170",
   "display_name": "Python 3.8.0 64-bit"
  }
 },
 "nbformat": 4,
 "nbformat_minor": 2,
 "cells": [
  {
   "source": [
    "# Übung 1\n",
    "\n",
    "## [Aufgabenblatt](DIS12-02-boolean-exercise.pdf)\n",
    "___\n",
    "\n",
    "### 1. [Mengen und Sets](Mengen_und_Sets.xlsx)\n",
    "### 2. [Venn Diagramme](Venn-Diagramme.pdf)\n",
    "### 3. [Term Dokument Matrix](###Term-Dokument-Matrix)"
   ],
   "cell_type": "markdown",
   "metadata": {}
  },
  {
   "source": [
    "### Term Dokument Matrix"
   ],
   "cell_type": "markdown",
   "metadata": {}
  },
  {
   "cell_type": "code",
   "execution_count": 1,
   "metadata": {},
   "outputs": [],
   "source": [
    "# Imports\n",
    "import pandas as pd\n",
    "import numpy as np\n",
    "from sklearn.feature_extraction.text import CountVectorizer"
   ]
  },
  {
   "cell_type": "code",
   "execution_count": 2,
   "metadata": {},
   "outputs": [
    {
     "output_type": "execute_result",
     "data": {
      "text/plain": [
       "['population below the poverty line',\n",
       " 'calculation of the poverty gap index',\n",
       " 'population, poverty and economic growth',\n",
       " 'the impact of economic growth on poverty']"
      ]
     },
     "metadata": {},
     "execution_count": 2
    }
   ],
   "source": [
    "# Dokumentkorpus\n",
    "docs = [\n",
    "    \"population below the poverty line\",\n",
    "    \"calculation of the poverty gap index\",\n",
    "    \"population, poverty and economic growth\",\n",
    "    \"the impact of economic growth on poverty\",\n",
    "]\n",
    "docs"
   ]
  },
  {
   "cell_type": "code",
   "execution_count": 3,
   "metadata": {},
   "outputs": [
    {
     "output_type": "stream",
     "name": "stdout",
     "text": [
      "   and  below  calculation  economic  gap  growth  impact  index  line  of  \\\n0    0      1            0         0    0       0       0      0     1   0   \n1    0      0            1         0    1       0       0      1     0   1   \n2    1      0            0         1    0       1       0      0     0   0   \n3    0      0            0         1    0       1       1      0     0   1   \n\n   on  population  poverty  the  \n0   0           1        1    1  \n1   0           0        1    1  \n2   0           1        1    0  \n3   1           0        1    1  \n"
     ]
    }
   ],
   "source": [
    "# Erstellen der Term-Dokument-Matrix\n",
    "vec = CountVectorizer()\n",
    "X = vec.fit_transform(docs)\n",
    "df = pd.DataFrame(X.toarray(), columns=vec.get_feature_names())\n",
    "print(df)"
   ]
  },
  {
   "cell_type": "code",
   "execution_count": 4,
   "metadata": {},
   "outputs": [
    {
     "output_type": "stream",
     "name": "stdout",
     "text": [
      "0 1\n1 0\n2 1\n3 0\n"
     ]
    }
   ],
   "source": [
    "# Anfrage: poverty AND population\n",
    "for df_index, row in df.iterrows():\n",
    "    if row[\"poverty\"] == row[\"population\"]:\n",
    "        print(df_index, \"1\")\n",
    "    else:\n",
    "        print(df_index,\"0\")"
   ]
  },
  {
   "cell_type": "code",
   "execution_count": 5,
   "metadata": {},
   "outputs": [
    {
     "output_type": "stream",
     "name": "stdout",
     "text": [
      "0 1\n1 1\n2 0\n3 0\n"
     ]
    }
   ],
   "source": [
    "# Anfrage: the AND NOT (economic OR poverty)\n",
    "result = df[(df['the'] == 1 ) & ((df['economic'] == 0 )| (df['poverty'] == 0 ))]\n",
    "for df_index, row in df.iterrows():\n",
    "    if df_index in result.index:\n",
    "        print(df_index, \"1\")\n",
    "    else:\n",
    "        print(df_index,\"0\")"
   ]
  }
 ]
}
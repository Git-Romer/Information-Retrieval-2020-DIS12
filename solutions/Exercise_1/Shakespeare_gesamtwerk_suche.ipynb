{
 "metadata": {
  "language_info": {
   "codemirror_mode": {
    "name": "ipython",
    "version": 3
   },
   "file_extension": ".py",
   "mimetype": "text/x-python",
   "name": "python",
   "nbconvert_exporter": "python",
   "pygments_lexer": "ipython3",
   "version": "3.8.0-final"
  },
  "orig_nbformat": 2,
  "kernelspec": {
   "name": "python3",
   "display_name": "Python 3",
   "language": "python"
  }
 },
 "nbformat": 4,
 "nbformat_minor": 2,
 "cells": [
  {
   "cell_type": "code",
   "execution_count": 149,
   "metadata": {},
   "outputs": [
    {
     "output_type": "stream",
     "name": "stdout",
     "text": [
      "Searching for \"Brutus AND Caesar AND NOT Calphurnia\" in every .txt file \n\nno match (Caesar matched but couldn't find Brutus)\t->\tAlls_Well_that_Ends_Well\nmatch\t\t\t\t\t\t\t->\tAnthony_and_Cleopatra\nno match (Caesar matched but couldn't find Brutus)\t->\tAs_You_Like_It\nno match (Caesar matched but couldn't find Brutus)\t->\tA_Midsummer-Nights_Dream\nmatch\t\t\t\t\t\t\t->\tCoriolanus\nno match (Caesar matched but couldn't find Brutus)\t->\tCymbeline\nmatch\t\t\t\t\t\t\t->\tHamlet_Prince_of_Denmark\nno match (Found Calphurnia)\t\t\t\t->\tJulius_Caesar\nno match (Caesar matched but couldn't find Brutus)\t->\tKing_Lear\nno match (Caesar matched but couldn't find Brutus)\t->\tLoves_Labours_Lost\nno match (Caesar matched but couldn't find Brutus)\t->\tMacbeth\nno match (Caesar matched but couldn't find Brutus)\t->\tMeasure_for_Measure\nno match (Caesar matched but couldn't find Brutus)\t->\tMuch_Ado_About_Nothing\nno match (Caesar matched but couldn't find Brutus)\t->\tOthello_the_Moor_of_Venice\nno match (Caesar matched but couldn't find Brutus)\t->\tPericles_Prince_of_Tyre\nno match (Caesar matched but couldn't find Brutus)\t->\tRomeo_And_Juliet\nno match (Caesar matched but couldn't find Brutus)\t->\tThe_Comedy_of_Errors\nno match (Caesar matched but couldn't find Brutus)\t->\tThe_Famous_History_of_the_Life_of_King_Henry_VIII\nno match (Caesar matched but couldn't find Brutus)\t->\tThe_First_Part_of_King_Henry_IV\nno match (Caesar matched but couldn't find Brutus)\t->\tThe_First_Part_of_King_Henry_VI\nno match (Caesar matched but couldn't find Brutus)\t->\tThe_Life_and_Death_of_King_John\nmatch\t\t\t\t\t\t\t->\tThe_Life_of_King_Henry_V\nmatch\t\t\t\t\t\t\t->\tThe_Merchant_Of_Venice\nno match (Caesar matched but couldn't find Brutus)\t->\tThe_Merry_Wives_of_Windsor\nno match (Caesar matched but couldn't find Brutus)\t->\tThe_Second_Part_of_King_Henry_IV\nmatch\t\t\t\t\t\t\t->\tThe_Second_Part_of_King_Henry_VI\nno match (Caesar matched but couldn't find Brutus)\t->\tThe_Taming_of_the_Shrew\nno match (Caesar matched but couldn't find Brutus)\t->\tThe_Tempest\nno match (Caesar matched but couldn't find Brutus)\t->\tThe_Third_Part_of_King_Henry_VI\nno match (Caesar matched but couldn't find Brutus)\t->\tThe_Tragedy_of_King_Richard_II\nno match (Caesar matched but couldn't find Brutus)\t->\tThe_Tragedy_of_King_Richard_III\nno match (Caesar matched but couldn't find Brutus)\t->\tThe_Two_Gentlemen_of_Verona\nno match (Caesar matched but couldn't find Brutus)\t->\tThe_Winters_Tale\nno match (Caesar matched but couldn't find Brutus)\t->\tTimon_of_Athens\nmatch\t\t\t\t\t\t\t->\tTitus_Andronicus\nno match (Caesar matched but couldn't find Brutus)\t->\tTroilus_and_Cressida\nno match (Caesar matched but couldn't find Brutus)\t->\tTwelfth-Night_or_What_You_Will\n"
     ]
    }
   ],
   "source": [
    "import os\n",
    "\n",
    "print(\"\"\"Searching for \"Brutus AND Caesar AND NOT Calphurnia\" in every .txt file \\n\"\"\")\n",
    "for root, dirs, files in os.walk('shakespeare/'):\n",
    "    for txtfile in files:\n",
    "        Caesar=[u\"Cæsar\",u\"cæsar\",u\"Caesar\",u\"caesar\"]\n",
    "        text = open(\"shakespeare/\"+txtfile, \"r\", encoding='utf-8')\n",
    "        text = text.read()\n",
    "        filename, extension = os.path.splitext(txtfile)\n",
    "        if (\"Calphurnia\" or \"calphurnia\") in text:\n",
    "            print(\"no match (Found Calphurnia)\\t\\t\\t\\t->\\t\" + filename)\n",
    "        else:\n",
    "            if (\"Brutus\" or \"brutus\") in text:\n",
    "                if (i for i in text if Caesar in i):\n",
    "                    print(\"match\\t\\t\\t\\t\\t\\t\\t->\\t\" + filename)\n",
    "                else:\n",
    "                    print(\"no match (Brutus matched but couldn't find Caesar)\\t->\\t\" + filename)\n",
    "            if (i for i in text if Caesar in i):\n",
    "                if (\"Brutus\" or \"brutus\") in text:\n",
    "                    continue\n",
    "                else:\n",
    "                    print(\"no match (Caesar matched but couldn't find Brutus)\\t->\\t\" + filename)\n",
    "            else:\n",
    "                print(\"no match (Couldn't find Caesar or Brutus)\\t\\t->\\t\" + filename)"
   ]
  },
  {
   "cell_type": "code",
   "execution_count": null,
   "metadata": {},
   "outputs": [],
   "source": []
  },
  {
   "cell_type": "code",
   "execution_count": null,
   "metadata": {},
   "outputs": [],
   "source": []
  }
 ]
}